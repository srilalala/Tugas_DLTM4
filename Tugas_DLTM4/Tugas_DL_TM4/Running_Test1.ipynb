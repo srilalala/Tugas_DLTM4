{
  "metadata": {
    "kernelspec": {
      "language": "python",
      "display_name": "Python 3",
      "name": "python3"
    },
    "language_info": {
      "pygments_lexer": "ipython3",
      "nbconvert_exporter": "python",
      "version": "3.6.4",
      "file_extension": ".py",
      "codemirror_mode": {
        "name": "ipython",
        "version": 3
      },
      "name": "python",
      "mimetype": "text/x-python"
    },
    "kaggle": {
      "accelerator": "none",
      "dataSources": [
        {
          "sourceId": 75676,
          "sourceType": "datasetVersion",
          "datasetId": 42780
        }
      ],
      "dockerImageVersionId": 29840,
      "isInternetEnabled": false,
      "language": "python",
      "sourceType": "notebook",
      "isGpuEnabled": false
    },
    "colab": {
      "name": "Using basic CNN for natural image classification",
      "provenance": [],
      "include_colab_link": true
    }
  },
  "nbformat_minor": 0,
  "nbformat": 4,
  "cells": [
    {
      "cell_type": "markdown",
      "metadata": {
        "id": "view-in-github",
        "colab_type": "text"
      },
      "source": [
        "<a href=\"https://colab.research.google.com/github/srilalala/Tugas_DLTM4/blob/main/Tugas_DLTM4/Tugas_DL_TM4/Running_Test1.ipynb\" target=\"_parent\"><img src=\"https://colab.research.google.com/assets/colab-badge.svg\" alt=\"Open In Colab\"/></a>"
      ]
    },
    {
      "source": [
        "\n",
        "# IMPORTANT: RUN THIS CELL IN ORDER TO IMPORT YOUR KAGGLE DATA SOURCES\n",
        "# TO THE CORRECT LOCATION (/kaggle/input) IN YOUR NOTEBOOK,\n",
        "# THEN FEEL FREE TO DELETE THIS CELL.\n",
        "# NOTE: THIS NOTEBOOK ENVIRONMENT DIFFERS FROM KAGGLE'S PYTHON\n",
        "# ENVIRONMENT SO THERE MAY BE MISSING LIBRARIES USED BY YOUR\n",
        "# NOTEBOOK.\n",
        "\n",
        "import os\n",
        "import sys\n",
        "from tempfile import NamedTemporaryFile\n",
        "from urllib.request import urlopen\n",
        "from urllib.parse import unquote, urlparse\n",
        "from urllib.error import HTTPError\n",
        "from zipfile import ZipFile\n",
        "import tarfile\n",
        "import shutil\n",
        "\n",
        "CHUNK_SIZE = 40960\n",
        "DATA_SOURCE_MAPPING = 'natural-images:https%3A%2F%2Fstorage.googleapis.com%2Fkaggle-data-sets%2F42780%2F75676%2Fbundle%2Farchive.zip%3FX-Goog-Algorithm%3DGOOG4-RSA-SHA256%26X-Goog-Credential%3Dgcp-kaggle-com%2540kaggle-161607.iam.gserviceaccount.com%252F20240501%252Fauto%252Fstorage%252Fgoog4_request%26X-Goog-Date%3D20240501T082619Z%26X-Goog-Expires%3D259200%26X-Goog-SignedHeaders%3Dhost%26X-Goog-Signature%3D16d1dbaaa69ce8e391e8b0829cab86a3f2982cc9eda4a4ecaf6a7ccc55a2cfbf480e1a69026a83a801986097ec351eecc909456064384ee14847a172b0792c090eede2882ebe34789e932b0b772ea6078a5e2e9734a6d987332470b9f432a8d4da26bcc33f6e53ae561a6a281c2c0cb351ba99fe2c2f3c237a5aeab3863969cfbaed8ced594195d922295f894d34fc2e2bedefb832db9352cf6b27bda15799843315957f7552d5978878c3386c302d8b84963e7adcf67d0e9458f6aaa13e044c98e7b824808a34023be197b2d3a26059efc003b0601ac531b31ae3e81078138ad9bd7883a9a13a2f55dd5ab9a940abd07d39d08051577ec37fbb62d879f979ad'\n",
        "\n",
        "KAGGLE_INPUT_PATH='/kaggle/input'\n",
        "KAGGLE_WORKING_PATH='/kaggle/working'\n",
        "KAGGLE_SYMLINK='kaggle'\n",
        "\n",
        "!umount /kaggle/input/ 2> /dev/null\n",
        "shutil.rmtree('/kaggle/input', ignore_errors=True)\n",
        "os.makedirs(KAGGLE_INPUT_PATH, 0o777, exist_ok=True)\n",
        "os.makedirs(KAGGLE_WORKING_PATH, 0o777, exist_ok=True)\n",
        "\n",
        "try:\n",
        "  os.symlink(KAGGLE_INPUT_PATH, os.path.join(\"..\", 'input'), target_is_directory=True)\n",
        "except FileExistsError:\n",
        "  pass\n",
        "try:\n",
        "  os.symlink(KAGGLE_WORKING_PATH, os.path.join(\"..\", 'working'), target_is_directory=True)\n",
        "except FileExistsError:\n",
        "  pass\n",
        "\n",
        "for data_source_mapping in DATA_SOURCE_MAPPING.split(','):\n",
        "    directory, download_url_encoded = data_source_mapping.split(':')\n",
        "    download_url = unquote(download_url_encoded)\n",
        "    filename = urlparse(download_url).path\n",
        "    destination_path = os.path.join(KAGGLE_INPUT_PATH, directory)\n",
        "    try:\n",
        "        with urlopen(download_url) as fileres, NamedTemporaryFile() as tfile:\n",
        "            total_length = fileres.headers['content-length']\n",
        "            print(f'Downloading {directory}, {total_length} bytes compressed')\n",
        "            dl = 0\n",
        "            data = fileres.read(CHUNK_SIZE)\n",
        "            while len(data) > 0:\n",
        "                dl += len(data)\n",
        "                tfile.write(data)\n",
        "                done = int(50 * dl / int(total_length))\n",
        "                sys.stdout.write(f\"\\r[{'=' * done}{' ' * (50-done)}] {dl} bytes downloaded\")\n",
        "                sys.stdout.flush()\n",
        "                data = fileres.read(CHUNK_SIZE)\n",
        "            if filename.endswith('.zip'):\n",
        "              with ZipFile(tfile) as zfile:\n",
        "                zfile.extractall(destination_path)\n",
        "            else:\n",
        "              with tarfile.open(tfile.name) as tarfile:\n",
        "                tarfile.extractall(destination_path)\n",
        "            print(f'\\nDownloaded and uncompressed: {directory}')\n",
        "    except HTTPError as e:\n",
        "        print(f'Failed to load (likely expired) {download_url} to path {destination_path}')\n",
        "        continue\n",
        "    except OSError as e:\n",
        "        print(f'Failed to load {download_url} to path {destination_path}')\n",
        "        continue\n",
        "\n",
        "print('Data source import complete.')\n"
      ],
      "metadata": {
        "id": "Gcdmnw7rwn_P"
      },
      "cell_type": "code",
      "outputs": [],
      "execution_count": null
    },
    {
      "cell_type": "code",
      "source": [
        "# This Python 3 environment comes with many helpful analytics libraries installed\n",
        "# It is defined by the kaggle/python docker image: https://github.com/kaggle/docker-python\n",
        "# For example, here's several helpful packages to load in\n",
        "\n",
        "import numpy as np # linear algebra\n",
        "import pandas as pd # data processing, CSV file I/O (e.g. pd.read_csv)\n",
        "\n",
        "# Input data files are available in the \"../input/\" directory.\n",
        "# For example, running this (by clicking run or pressing Shift+Enter) will list all files under the input directory\n",
        "\n",
        "import os\n",
        "for dirname, _, filenames in os.walk('/kaggle/input'):\n",
        "    for filename in filenames:\n",
        "        (os.path.join(dirname, filename))\n",
        "# Any results you write to the current directory are saved as output."
      ],
      "metadata": {
        "_uuid": "8f2839f25d086af736a60e9eeb907d3b93b6e0e5",
        "_cell_guid": "b1076dfc-b9ad-4769-8c92-a6c4dae69d19",
        "trusted": true,
        "id": "IuyvnFPgwn_Y"
      },
      "execution_count": null,
      "outputs": []
    },
    {
      "cell_type": "code",
      "source": [
        "labels = os.listdir('../input/natural-images/data/natural_images/')\n",
        "print(labels)"
      ],
      "metadata": {
        "_uuid": "d629ff2d2480ee46fbb7e2d37f6b5fab8052498a",
        "_cell_guid": "79c7e3d0-c299-4dcb-8224-4455121ee9b0",
        "trusted": true,
        "id": "5bGdmdmxwn_a"
      },
      "execution_count": null,
      "outputs": []
    },
    {
      "cell_type": "code",
      "source": [
        "from IPython.display import Image, display\n",
        "num = []\n",
        "for label in labels:\n",
        "    path = '../input/natural-images/data/natural_images/{0}/'.format(label)\n",
        "    folder_data = os.listdir(path)\n",
        "    k = 0\n",
        "    print('\\n', label.upper())\n",
        "    for image_path in folder_data:\n",
        "        if k < 5:\n",
        "            display(Image(path+image_path))\n",
        "        k = k+1\n",
        "    num.append(k)\n",
        "    print('there are ', k,' images in ', label, 'class')"
      ],
      "metadata": {
        "trusted": true,
        "id": "Y-O-hvsiwn_b"
      },
      "execution_count": null,
      "outputs": []
    },
    {
      "cell_type": "code",
      "source": [
        "import matplotlib.pyplot as plt\n",
        "plt.figure(figsize = (8,8))\n",
        "plt.bar(labels, num)\n",
        "plt.title('NUMBER OF IMAGES CONTAINED IN EACH CLASS')\n",
        "plt.xlabel('classes')\n",
        "plt.ylabel('count')\n",
        "plt.show()"
      ],
      "metadata": {
        "trusted": true,
        "id": "Z-ARkrYrwn_c"
      },
      "execution_count": null,
      "outputs": []
    },
    {
      "cell_type": "code",
      "source": [
        "x_data =[]\n",
        "y_data = []\n",
        "import cv2\n",
        "for label in labels:\n",
        "    path = '../input/natural-images/data/natural_images/{0}/'.format(label)\n",
        "    folder_data = os.listdir(path)\n",
        "    for image_path in folder_data:\n",
        "        image = cv2.imread(path+image_path)\n",
        "        image_resized = cv2.resize(image, (32,32))\n",
        "        x_data.append(np.array(image_resized))\n",
        "        y_data.append(label)"
      ],
      "metadata": {
        "trusted": true,
        "id": "hAPmbxjqwn_e"
      },
      "execution_count": null,
      "outputs": []
    },
    {
      "cell_type": "code",
      "source": [
        "x_data = np.array(x_data)\n",
        "y_data = np.array(y_data)\n",
        "print('the shape of X is: ', x_data.shape, 'and that of Y is: ', y_data.shape)"
      ],
      "metadata": {
        "trusted": true,
        "id": "XKAxyOR-wn_g"
      },
      "execution_count": null,
      "outputs": []
    },
    {
      "cell_type": "code",
      "source": [
        "#stadardizing the input data\n",
        "x_data = x_data.astype('float32')/255"
      ],
      "metadata": {
        "trusted": true,
        "id": "71RHHSm0wn_j"
      },
      "execution_count": null,
      "outputs": []
    },
    {
      "cell_type": "code",
      "source": [
        "#converting the y_data into categorical:\n",
        "from sklearn.preprocessing import LabelEncoder\n",
        "y_encoded = LabelEncoder().fit_transform(y_data)\n",
        "from keras.utils import to_categorical\n",
        "y_categorical = to_categorical(y_encoded)"
      ],
      "metadata": {
        "trusted": true,
        "id": "-KMCJbKvwn_k"
      },
      "execution_count": null,
      "outputs": []
    },
    {
      "cell_type": "code",
      "source": [
        "#lets shuffle all the data we have:\n",
        "r = np.arange(x_data.shape[0])\n",
        "np.random.seed(42)\n",
        "np.random.shuffle(r)\n",
        "X = x_data[r]\n",
        "Y = y_categorical[r]"
      ],
      "metadata": {
        "trusted": true,
        "id": "SXix63tRwn_l"
      },
      "execution_count": null,
      "outputs": []
    },
    {
      "cell_type": "code",
      "source": [
        "from sklearn.model_selection import train_test_split\n",
        "X_train, X_test, Y_train, Y_test = train_test_split(X, Y, test_size = 0.33)"
      ],
      "metadata": {
        "trusted": true,
        "id": "kZqwd9pPwn_m"
      },
      "execution_count": null,
      "outputs": []
    },
    {
      "cell_type": "code",
      "source": [
        "#structuring the CNN model\n",
        "from keras import models, layers\n",
        "model = models.Sequential()\n",
        "model.add(layers.Conv2D(filters=32, kernel_size=(5,5), activation='relu', input_shape=X_train.shape[1:]))\n",
        "model.add(layers.MaxPool2D(pool_size=(2, 2)))\n",
        "model.add(layers.Conv2D(filters=64, kernel_size=(3, 3), activation='relu'))\n",
        "model.add(layers.MaxPool2D(pool_size=(2, 2)))\n",
        "model.add(layers.Dropout(rate=0.25))\n",
        "model.add(layers.Flatten())\n",
        "model.add(layers.Dense(256, activation='relu'))\n",
        "model.add(layers.Dropout(rate=0.5))\n",
        "model.add(layers.Dense(8, activation='softmax'))"
      ],
      "metadata": {
        "trusted": true,
        "id": "Fi8G_2zGwn_m"
      },
      "execution_count": null,
      "outputs": []
    },
    {
      "cell_type": "code",
      "source": [
        "#let's compile the model\n",
        "model.compile(\n",
        "    loss='categorical_crossentropy',\n",
        "    optimizer='adam',\n",
        "    metrics=['accuracy'])"
      ],
      "metadata": {
        "trusted": true,
        "id": "b5axqWm4wn_n"
      },
      "execution_count": null,
      "outputs": []
    },
    {
      "cell_type": "code",
      "source": [
        "#fitting the model\n",
        "history = model.fit(X_train, Y_train, epochs=25, validation_split=0.2)"
      ],
      "metadata": {
        "trusted": true,
        "id": "0wA1xkqkwn_r"
      },
      "execution_count": null,
      "outputs": []
    },
    {
      "cell_type": "code",
      "source": [
        "#Display of the accuracy and the loss values\n",
        "import matplotlib.pyplot as plt\n",
        "\n",
        "plt.figure(figsize = (8,8))\n",
        "plt.plot(history.history['accuracy'], label='training accuracy')\n",
        "plt.plot(history.history['val_accuracy'], label='val accuracy')\n",
        "plt.plot(history.history['loss'], label='training loss')\n",
        "plt.plot(history.history['val_loss'], label='val loss')\n",
        "plt.title('Loss/accuracy')\n",
        "plt.xlabel('epochs')\n",
        "plt.ylabel('loss')\n",
        "plt.legend()\n",
        "plt.show()"
      ],
      "metadata": {
        "trusted": true,
        "id": "fG8F3u0Zwn_r"
      },
      "execution_count": null,
      "outputs": []
    },
    {
      "cell_type": "code",
      "source": [
        "from keras.utils import plot_model\n",
        "plot_model(model)"
      ],
      "metadata": {
        "trusted": true,
        "id": "x87nCryvwn_s"
      },
      "execution_count": null,
      "outputs": []
    },
    {
      "cell_type": "code",
      "source": [
        "Y_pred = model.predict_classes(X_test)"
      ],
      "metadata": {
        "trusted": true,
        "id": "Hg26sB9xwn_s"
      },
      "execution_count": null,
      "outputs": []
    },
    {
      "cell_type": "code",
      "source": [
        "#converting over Y test to actual labels.\n",
        "Y_test = np.argmax(Y_test, axis = 1)"
      ],
      "metadata": {
        "trusted": true,
        "id": "6BaCdeqxwn_t"
      },
      "execution_count": null,
      "outputs": []
    },
    {
      "cell_type": "code",
      "source": [
        "from sklearn.metrics import accuracy_score\n",
        "print('the accuracy obtained on the test set is:', accuracy_score(Y_pred,Y_test))"
      ],
      "metadata": {
        "trusted": true,
        "id": "Lvi0hp1dwn_u"
      },
      "execution_count": null,
      "outputs": []
    },
    {
      "cell_type": "code",
      "source": [
        "from sklearn.metrics import classification_report\n",
        "print(classification_report(Y_test, Y_pred))"
      ],
      "metadata": {
        "trusted": true,
        "id": "pu2O0Erown_v"
      },
      "execution_count": null,
      "outputs": []
    }
  ]
}